{
 "cells": [
  {
   "cell_type": "markdown",
   "metadata": {},
   "source": [
    "# This is my quiz app:"
   ]
  },
  {
   "cell_type": "code",
   "execution_count": 2,
   "metadata": {},
   "outputs": [
    {
     "name": "stdout",
     "output_type": "stream",
     "text": [
      "What's Harry Potter's middle name?james\n",
      "⚡You're ok⚡\n",
      "Grace Hopper coined what Computer Science term? A) Byte, B) Function, C) Iterate, D) Debugd\n",
      "🐞You remembered!🐞\n",
      "Your score is 2 / 2\n"
     ]
    }
   ],
   "source": [
    "score = 0\n",
    "\n",
    "harry_potter = raw_input(\"What's Harry Potter's middle name?\")\n",
    "if harry_potter.lower() == \"james\":\n",
    "    print u\"⚡You're ok⚡\" # To get emoji to print correctly, put a u for 'unicode' before a string.\n",
    "    score = score + 1\n",
    "else:\n",
    "    print u\"💥Expeliarmus!💥\"\n",
    "\n",
    "grace_hopper = raw_input(\"Grace Hopper coined what Computer Science term? A) Byte, B) Function, C) Iterate, D) Debug\")\n",
    "if grace_hopper.lower() == \"d\" or grace_hopper.lower()==\"debug\":\n",
    "    print u\"🐞You remembered!🐞\"\n",
    "    score = score + 1\n",
    "else:\n",
    "    print u\"😭No! You make me sad...😭\"\n",
    "\n",
    "print \"Your score is \" + str(score) + \" / 2\""
   ]
  },
  {
   "cell_type": "code",
   "execution_count": null,
   "metadata": {},
   "outputs": [],
   "source": [
    ""
   ]
  }
 ],
 "metadata": {
  "kernelspec": {
   "display_name": "Python 2",
   "language": "python",
   "name": "python2"
  },
  "language_info": {
   "codemirror_mode": {
    "name": "ipython",
    "version": 2.0
   },
   "file_extension": ".py",
   "mimetype": "text/x-python",
   "name": "python",
   "nbconvert_exporter": "python",
   "pygments_lexer": "ipython2",
   "version": "2.7.11"
  }
 },
 "nbformat": 4,
 "nbformat_minor": 0
}